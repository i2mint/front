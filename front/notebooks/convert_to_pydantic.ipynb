{
 "cells": [
  {
   "cell_type": "code",
   "execution_count": 4,
   "source": [
    "from i2 import Sig\n",
    "from typing import Any\n",
    "from front.scrap.py2pydantic import func_to_pyd_model_specs, func_to_pyd_input_model_cls\n",
    "\n",
    "from i2.tests.objects_for_testing import formula1\n",
    "\n",
    "\n",
    "list(func_to_pyd_model_specs(func=formula1, dflt_type=Any))"
   ],
   "outputs": [
    {
     "output_type": "execute_result",
     "data": {
      "text/plain": [
       "[('w', (typing.Any, Ellipsis)),\n",
       " ('x', (float, Ellipsis)),\n",
       " ('y', 1),\n",
       " ('z', (int, 1))]"
      ]
     },
     "metadata": {},
     "execution_count": 4
    }
   ],
   "metadata": {}
  },
  {
   "cell_type": "code",
   "execution_count": 5,
   "source": [
    "func = formula1\n",
    "pyd_model = func_to_pyd_input_model_cls(func, dflt_type=Any)\n",
    "    "
   ],
   "outputs": [],
   "metadata": {}
  },
  {
   "cell_type": "code",
   "execution_count": 6,
   "source": [
    "pyd_model"
   ],
   "outputs": [
    {
     "output_type": "execute_result",
     "data": {
      "text/plain": [
       "pydantic.main.formula1"
      ]
     },
     "metadata": {},
     "execution_count": 6
    }
   ],
   "metadata": {}
  },
  {
   "cell_type": "code",
   "execution_count": 9,
   "source": [
    "pyd_model.schema()"
   ],
   "outputs": [
    {
     "output_type": "execute_result",
     "data": {
      "text/plain": [
       "{'title': 'formula1',\n",
       " 'type': 'object',\n",
       " 'properties': {'w': {'title': 'W'},\n",
       "  'x': {'title': 'X', 'type': 'number'},\n",
       "  'z': {'title': 'Z', 'default': 1, 'type': 'integer'},\n",
       "  'y': {'title': 'Y', 'default': 1, 'type': 'integer'}},\n",
       " 'required': ['w', 'x']}"
      ]
     },
     "metadata": {},
     "execution_count": 9
    }
   ],
   "metadata": {}
  },
  {
   "cell_type": "code",
   "execution_count": 12,
   "source": [
    "def pyd_func_ingress_template(input_model_instance, wrapped_func_sig: Sig):\n",
    "    kwargs = dict(input_model_instance)\n",
    "    args, kwargs = wrapped_func_sig.args_and_kwargs_from_kwargs(kwargs)\n",
    "    return args, kwargs\n",
    "\n",
    "input_model_instance = pyd_model(w=1, x=2, y=3)"
   ],
   "outputs": [],
   "metadata": {}
  },
  {
   "cell_type": "code",
   "execution_count": 14,
   "source": [
    "kwargs = dict(input_model_instance)\n",
    "wrapped_func_sig = Sig(formula1)\n",
    "args, kwargs = wrapped_func_sig.args_and_kwargs_from_kwargs(kwargs)\n",
    "args, kwargs"
   ],
   "outputs": [
    {
     "output_type": "execute_result",
     "data": {
      "text/plain": [
       "((1,), {'x': 2.0, 'y': 3, 'z': 1})"
      ]
     },
     "metadata": {},
     "execution_count": 14
    }
   ],
   "metadata": {}
  },
  {
   "cell_type": "code",
   "execution_count": 2,
   "source": [
    "from streamlit.legacy_caching.hashing import _CodeHasher"
   ],
   "outputs": [],
   "metadata": {}
  },
  {
   "cell_type": "code",
   "execution_count": null,
   "source": [],
   "outputs": [],
   "metadata": {}
  }
 ],
 "metadata": {
  "orig_nbformat": 4,
  "language_info": {
   "name": "python",
   "version": "3.8.11",
   "mimetype": "text/x-python",
   "codemirror_mode": {
    "name": "ipython",
    "version": 3
   },
   "pygments_lexer": "ipython3",
   "nbconvert_exporter": "python",
   "file_extension": ".py"
  },
  "kernelspec": {
   "name": "python3",
   "display_name": "Python 3.8.11 64-bit ('otopy38': conda)"
  },
  "interpreter": {
   "hash": "094c189d81026d09b06c18854d442a49d96e55830a4824cf8c6f41ec19877a82"
  }
 },
 "nbformat": 4,
 "nbformat_minor": 2
}