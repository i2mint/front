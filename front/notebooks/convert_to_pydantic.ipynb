{
 "cells": [
  {
   "cell_type": "code",
   "execution_count": 18,
   "source": [
    "from i2 import Sig\n",
    "from typing import Any\n",
    "from front.scrap.py2pydantic import func_to_pyd_model_specs, func_to_pyd_input_model_cls, func_to_pyd_func\n",
    "\n",
    "from i2.tests.objects_for_testing import formula1\n",
    "\n",
    "\n",
    "list(func_to_pyd_model_specs(func=formula1, dflt_type=Any))"
   ],
   "outputs": [
    {
     "output_type": "execute_result",
     "data": {
      "text/plain": [
       "[('w', (typing.Any, Ellipsis)),\n",
       " ('x', (float, Ellipsis)),\n",
       " ('y', 1),\n",
       " ('z', (int, 1))]"
      ]
     },
     "metadata": {},
     "execution_count": 18
    }
   ],
   "metadata": {}
  },
  {
   "cell_type": "code",
   "execution_count": 19,
   "source": [
    "func = formula1\n",
    "pyd_model = func_to_pyd_input_model_cls(func, dflt_type=Any)\n",
    "    "
   ],
   "outputs": [],
   "metadata": {}
  },
  {
   "cell_type": "code",
   "execution_count": 20,
   "source": [
    "pyd_model"
   ],
   "outputs": [
    {
     "output_type": "execute_result",
     "data": {
      "text/plain": [
       "pydantic.main.formula1"
      ]
     },
     "metadata": {},
     "execution_count": 20
    }
   ],
   "metadata": {}
  },
  {
   "cell_type": "code",
   "execution_count": 21,
   "source": [
    "pyd_model.schema()"
   ],
   "outputs": [
    {
     "output_type": "execute_result",
     "data": {
      "text/plain": [
       "{'title': 'formula1',\n",
       " 'type': 'object',\n",
       " 'properties': {'w': {'title': 'W'},\n",
       "  'x': {'title': 'X', 'type': 'number'},\n",
       "  'z': {'title': 'Z', 'default': 1, 'type': 'integer'},\n",
       "  'y': {'title': 'Y', 'default': 1, 'type': 'integer'}},\n",
       " 'required': ['w', 'x']}"
      ]
     },
     "metadata": {},
     "execution_count": 21
    }
   ],
   "metadata": {}
  },
  {
   "cell_type": "code",
   "execution_count": 22,
   "source": [
    "def pyd_func_ingress_template(input_model_instance, wrapped_func_sig: Sig):\n",
    "    kwargs = dict(input_model_instance)\n",
    "    args, kwargs = wrapped_func_sig.args_and_kwargs_from_kwargs(kwargs)\n",
    "    return args, kwargs\n",
    "\n",
    "input_model_instance = pyd_model(w=1, x=2, y=3)"
   ],
   "outputs": [],
   "metadata": {}
  },
  {
   "cell_type": "code",
   "execution_count": 23,
   "source": [
    "kwargs = dict(input_model_instance)\n",
    "wrapped_func_sig = Sig(formula1)\n",
    "args, kwargs = wrapped_func_sig.args_and_kwargs_from_kwargs(kwargs)\n",
    "args, kwargs"
   ],
   "outputs": [
    {
     "output_type": "execute_result",
     "data": {
      "text/plain": [
       "((1,), {'x': 2.0, 'y': 3, 'z': 1})"
      ]
     },
     "metadata": {},
     "execution_count": 23
    }
   ],
   "metadata": {}
  },
  {
   "cell_type": "code",
   "execution_count": 24,
   "source": [
    "def func_to_pyd_func(func: Callable, dflt_type=Any):\n",
    "    \"\"\"Get a 'opyrator' function from a python function.\n",
    "    That is, a function that has a single pydantic model input and output.\n",
    "    \"\"\"\n",
    "    pyd_func_ingress = partial(pyd_func_ingress_template, wrapped_func_sig=Sig(func))\n",
    "\n",
    "    input_model = func_to_pyd_input_model_cls(func, dflt_type)\n",
    "    output_model = create_model(\n",
    "        \"output_model\", output_val=(Any, ...)\n",
    "    )  # TODO: Work on this\n",
    "    # TODO: Inject annotations in pyd_func_ingress\n",
    "\n",
    "    return wrap(func, ingress=pyd_func_ingress)"
   ],
   "outputs": [
    {
     "output_type": "error",
     "ename": "NameError",
     "evalue": "name 'Callable' is not defined",
     "traceback": [
      "\u001b[0;31m---------------------------------------------------------------------------\u001b[0m",
      "\u001b[0;31mNameError\u001b[0m                                 Traceback (most recent call last)",
      "\u001b[0;32m<ipython-input-24-8ca79d839207>\u001b[0m in \u001b[0;36m<module>\u001b[0;34m\u001b[0m\n\u001b[0;32m----> 1\u001b[0;31m \u001b[0;32mdef\u001b[0m \u001b[0mfunc_to_pyd_func\u001b[0m\u001b[0;34m(\u001b[0m\u001b[0mfunc\u001b[0m\u001b[0;34m:\u001b[0m \u001b[0mCallable\u001b[0m\u001b[0;34m,\u001b[0m \u001b[0mdflt_type\u001b[0m\u001b[0;34m=\u001b[0m\u001b[0mAny\u001b[0m\u001b[0;34m)\u001b[0m\u001b[0;34m:\u001b[0m\u001b[0;34m\u001b[0m\u001b[0;34m\u001b[0m\u001b[0m\n\u001b[0m\u001b[1;32m      2\u001b[0m     \"\"\"Get a 'opyrator' function from a python function.\n\u001b[1;32m      3\u001b[0m     \u001b[0mThat\u001b[0m \u001b[0;32mis\u001b[0m\u001b[0;34m,\u001b[0m \u001b[0ma\u001b[0m \u001b[0mfunction\u001b[0m \u001b[0mthat\u001b[0m \u001b[0mhas\u001b[0m \u001b[0ma\u001b[0m \u001b[0msingle\u001b[0m \u001b[0mpydantic\u001b[0m \u001b[0mmodel\u001b[0m \u001b[0minput\u001b[0m \u001b[0;32mand\u001b[0m \u001b[0moutput\u001b[0m\u001b[0;34m.\u001b[0m\u001b[0;34m\u001b[0m\u001b[0;34m\u001b[0m\u001b[0m\n\u001b[1;32m      4\u001b[0m     \"\"\"\n\u001b[1;32m      5\u001b[0m     \u001b[0mpyd_func_ingress\u001b[0m \u001b[0;34m=\u001b[0m \u001b[0mpartial\u001b[0m\u001b[0;34m(\u001b[0m\u001b[0mpyd_func_ingress_template\u001b[0m\u001b[0;34m,\u001b[0m \u001b[0mwrapped_func_sig\u001b[0m\u001b[0;34m=\u001b[0m\u001b[0mSig\u001b[0m\u001b[0;34m(\u001b[0m\u001b[0mfunc\u001b[0m\u001b[0;34m)\u001b[0m\u001b[0;34m)\u001b[0m\u001b[0;34m\u001b[0m\u001b[0;34m\u001b[0m\u001b[0m\n",
      "\u001b[0;31mNameError\u001b[0m: name 'Callable' is not defined"
     ]
    }
   ],
   "metadata": {}
  },
  {
   "cell_type": "code",
   "execution_count": 25,
   "source": [
    "from typing import Any\n",
    "pyd_func = func_to_pyd_func(formula1, dflt_type=Any)"
   ],
   "outputs": [],
   "metadata": {}
  },
  {
   "cell_type": "code",
   "execution_count": 26,
   "source": [
    "input_model = func_to_pyd_input_model_cls(formula1, dflt_type=Any)"
   ],
   "outputs": [],
   "metadata": {}
  },
  {
   "cell_type": "code",
   "execution_count": 28,
   "source": [
    "inp = input_model(w=2,x=1,y=2)\n",
    "inp"
   ],
   "outputs": [
    {
     "output_type": "execute_result",
     "data": {
      "text/plain": [
       "formula1(w=2, x=1.0, z=1, y=2)"
      ]
     },
     "metadata": {},
     "execution_count": 28
    }
   ],
   "metadata": {}
  },
  {
   "cell_type": "code",
   "execution_count": 29,
   "source": [
    "pyd_func(inp)"
   ],
   "outputs": [
    {
     "output_type": "execute_result",
     "data": {
      "text/plain": [
       "6.0"
      ]
     },
     "metadata": {},
     "execution_count": 29
    }
   ],
   "metadata": {}
  },
  {
   "cell_type": "code",
   "execution_count": 33,
   "source": [
    "def double_string(x:str)->int:\n",
    "    return len(2*x)\n",
    "\n",
    "sig = Sig(double_string)"
   ],
   "outputs": [],
   "metadata": {}
  },
  {
   "cell_type": "code",
   "execution_count": 42,
   "source": [
    "from pydantic import create_model\n",
    "from typing import Callable, Any\n",
    "\n",
    "def func_to_pyd_output_model_cls(func: Callable, dflt_type=Any):\n",
    "    return_type = Sig(func).return_annotation\n",
    "\n",
    "    output = create_model('Output', output_val = return_type)\n",
    "\n",
    "    return output"
   ],
   "outputs": [],
   "metadata": {}
  },
  {
   "cell_type": "code",
   "execution_count": 44,
   "source": [
    "output = func_to_pyd_output_model_cls(formula1)"
   ],
   "outputs": [],
   "metadata": {}
  },
  {
   "cell_type": "code",
   "execution_count": 48,
   "source": [
    "res = output(output_val =3)"
   ],
   "outputs": [],
   "metadata": {}
  },
  {
   "cell_type": "code",
   "execution_count": 49,
   "source": [
    "res.__fields__"
   ],
   "outputs": [
    {
     "output_type": "execute_result",
     "data": {
      "text/plain": [
       "{}"
      ]
     },
     "metadata": {},
     "execution_count": 49
    }
   ],
   "metadata": {}
  },
  {
   "cell_type": "code",
   "execution_count": 50,
   "source": [
    "def egress(output):\n",
    "    return_type = type(output)\n",
    "    mod = create_model('Output', output_val = return_type)\n",
    "    \n",
    "    return mod(output_val = output)"
   ],
   "outputs": [],
   "metadata": {}
  },
  {
   "cell_type": "code",
   "execution_count": null,
   "source": [],
   "outputs": [],
   "metadata": {}
  }
 ],
 "metadata": {
  "orig_nbformat": 4,
  "language_info": {
   "name": "python",
   "version": "3.8.11",
   "mimetype": "text/x-python",
   "codemirror_mode": {
    "name": "ipython",
    "version": 3
   },
   "pygments_lexer": "ipython3",
   "nbconvert_exporter": "python",
   "file_extension": ".py"
  },
  "kernelspec": {
   "name": "python3",
   "display_name": "Python 3.8.11 64-bit ('otopy38': conda)"
  },
  "interpreter": {
   "hash": "094c189d81026d09b06c18854d442a49d96e55830a4824cf8c6f41ec19877a82"
  }
 },
 "nbformat": 4,
 "nbformat_minor": 2
}