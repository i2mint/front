{
 "cells": [
  {
   "cell_type": "code",
   "execution_count": 1,
   "metadata": {},
   "outputs": [],
   "source": [
    "from pydantic_wrap import SimplePageFuncPydanticWithOutput, pydantic_model_from_type"
   ]
  },
  {
   "cell_type": "code",
   "execution_count": 2,
   "metadata": {},
   "outputs": [],
   "source": [
    "def ff(x:int)->int:\n",
    "    return x\n",
    "\n",
    "mytype = ff.__annotations__[\"return\"]\n",
    "\n",
    "mod = pydantic_model_from_type(mytype)"
   ]
  },
  {
   "cell_type": "code",
   "execution_count": 3,
   "metadata": {},
   "outputs": [
    {
     "data": {
      "text/plain": [
       "{'result': ModelField(name='result', type=int, required=True)}"
      ]
     },
     "execution_count": 3,
     "metadata": {},
     "output_type": "execute_result"
    }
   ],
   "source": [
    "mod.__fields__"
   ]
  },
  {
   "cell_type": "markdown",
   "metadata": {},
   "source": [
    "# flat dispatch"
   ]
  },
  {
   "cell_type": "code",
   "execution_count": 6,
   "metadata": {},
   "outputs": [],
   "source": [
    "from streamlitfront import dispatch_funcs\n",
    "from front.scrap.pydantic_wrap import SimplePageFuncPydanticWithOutput\n",
    "from typing import Optional\n",
    "from streamlit_pydantic.types import FileContent\n",
    "from pydantic import Field, BaseModel\n",
    "from dol import Store\n",
    "\n",
    "\n"
   ]
  },
  {
   "cell_type": "code",
   "execution_count": 11,
   "metadata": {},
   "outputs": [],
   "source": [
    "def func(salary: float, n_months=12):\n",
    "    return salary * n_months\n",
    "\n",
    "salary_store = {\n",
    "    'sylvain': 10000,\n",
    "    'christian': 2000,\n",
    "    'thor': 50000\n",
    "}\n",
    "\n",
    "def store_wrapped_func(salary: str, n_months=12):\n",
    "    salary = salary_store[salary]\n",
    "    return func(salary, n_months)\n",
    "\n",
    "assert store_wrapped_func('sylvain', 6) == 60000"
   ]
  },
  {
   "cell_type": "code",
   "execution_count": 17,
   "metadata": {},
   "outputs": [],
   "source": [
    "from i2.wrapper import wrap\n",
    "\n",
    "def ingress_salary(salary_str:str, n_months:int):\n",
    "    return (salary_store[salary_str], n_months), dict()\n",
    "\n",
    "wrapped = wrap(func, ingress = ingress_salary)\n",
    "assert wrapped('sylvain', 12)==120000"
   ]
  },
  {
   "cell_type": "code",
   "execution_count": null,
   "metadata": {},
   "outputs": [],
   "source": [
    "\"\"\"A simple app to demo the use of Mappings to handle complex type\"\"\"\n",
    "from typing import Mapping\n",
    "\n",
    "ComplexType = float  # just pretend it's complex!\n",
    "\n",
    "\n",
    "def func(salary: ComplexType, n_months: int = 12):\n",
    "    return salary * n_months\n",
    "\n",
    "\n",
    "SalaryKey = str  # or some type that will resolve in store-fed key selector\n",
    "SalaryMapping = Mapping[SalaryKey, ComplexType]\n",
    "\n",
    "salary_store: SalaryMapping\n",
    "salary_store = {\"sylvain\": 10000, \"christian\": 2000, \"thor\": 50000}\n",
    "\n",
    "\n",
    "def store_wrapped_func(salary: SalaryKey, n_months: int = 12):\n",
    "    salary = salary_store[salary]\n",
    "    return func(salary, n_months)\n",
    "\n",
    "\n",
    "assert store_wrapped_func(\"sylvain\", 6) == 60000\n",
    "\n",
    "\n",
    "if __name__ == \"__main__\":\n",
    "    from streamlitfront.base import dispatch_funcs\n",
    "\n",
    "    app = dispatch_funcs([func, store_wrapped_func])\n",
    "    app()"
   ]
  },
  {
   "cell_type": "code",
   "execution_count": 20,
   "metadata": {},
   "outputs": [],
   "source": [
    "\"\"\"A simple app to demo the use of Mappings to handle complex type\"\"\"\n",
    "from typing import Mapping\n",
    "from enum import Enum\n",
    "\n",
    "from i2.wrapper import wrap\n",
    "\n",
    "\n",
    "\n",
    "ComplexType = float  # just pretend it's complex!\n",
    "\n",
    "\n",
    "def func(salary: ComplexType, n_months: int = 12):\n",
    "    return salary * n_months\n",
    "\n",
    "\n",
    "SalaryKey = str  # or some type that will resolve in store-fed key selector\n",
    "SalaryMapping = Mapping[SalaryKey, ComplexType]\n",
    "\n",
    "salary_store: SalaryMapping\n",
    "salary_store = {\"sylvain\": 10000, \"christian\": 2000, \"thor\": 50000}\n",
    "\n",
    "def choose_key(choice):\n",
    "    pass\n",
    "\n",
    "def ingress_salary(salary_str:SalaryKey, n_months:int):\n",
    "    return (salary_store[salary_str], n_months), dict()\n",
    "\n",
    "store_wrapped_func = wrap(func, ingress = ingress_salary)\n",
    "\n",
    "\n",
    "assert store_wrapped_func(\"sylvain\", 6) == 60000\n",
    "\n",
    "class SelectionValue(str, Enum):\n",
    "    FOO = \"foo\"\n",
    "    BAR = \"bar\"\n",
    "\n",
    "\n",
    "class ExampleModel(BaseModel):\n",
    "    single_selection: SelectionValue = Field(\n",
    "        ..., description=\"Only select a single item from a set.\"\n",
    "    )"
   ]
  },
  {
   "cell_type": "code",
   "execution_count": 21,
   "metadata": {},
   "outputs": [],
   "source": [
    "class SelectionValue(str, Enum):\n",
    "    FOO = \"foo\"\n",
    "    BAR = \"bar\"\n",
    "\n",
    "\n",
    "class ExampleModel(BaseModel):\n",
    "    single_selection: SelectionValue = Field(\n",
    "        ..., description=\"Only select a single item from a set.\"\n",
    "    )"
   ]
  },
  {
   "cell_type": "code",
   "execution_count": 30,
   "metadata": {},
   "outputs": [],
   "source": [
    "from dataclasses import dataclass, field, make_dataclass\n",
    "from typing import List\n",
    "\n",
    "store = {'sly':20000, 'chris':4000}\n",
    "def mk_choices():\n",
    "    return list(store.keys())\n",
    "\n",
    "@dataclass\n",
    "class C:\n",
    "    mylist: List[str] = field(default_factory=mk_choices)\n",
    "\n",
    "c = C()\n",
    "c.mylist += [1, 2, 3]"
   ]
  },
  {
   "cell_type": "code",
   "execution_count": 31,
   "metadata": {},
   "outputs": [],
   "source": [
    "DFLT_CHOICES = ['sly','chris']\n",
    "C = Enum(\"Choices\", {'sly':'sly', 'chris':'chris'})"
   ]
  },
  {
   "cell_type": "code",
   "execution_count": 32,
   "metadata": {},
   "outputs": [
    {
     "data": {
      "text/plain": [
       "<enum 'Choices'>"
      ]
     },
     "execution_count": 32,
     "metadata": {},
     "output_type": "execute_result"
    }
   ],
   "source": [
    "C"
   ]
  },
  {
   "cell_type": "code",
   "execution_count": null,
   "metadata": {},
   "outputs": [],
   "source": []
  },
  {
   "cell_type": "markdown",
   "metadata": {},
   "source": [
    "# Scrap"
   ]
  },
  {
   "cell_type": "code",
   "execution_count": 13,
   "metadata": {},
   "outputs": [
    {
     "name": "stdout",
     "output_type": "stream",
     "text": [
      "sig: (fitted_model: Any, fvs: Any, method='transform')\n",
      "crude params: ['fitted_model', 'fvs']\n",
      "save_name: str = ''\n",
      "(fitted_model: str, fvs: str, method='transform', save_name: str = '')\n"
     ]
    }
   ],
   "source": [
    "\"\"\"\n",
    "Same as take_04_model_run, but where the dispatch is not as manual.\n",
    "\"\"\"\n",
    "\n",
    "# This is what we want our \"dispatchable\" wrapper to look like\n",
    "\n",
    "# There should be real physical stores for those types (FVs, FittedModel) that need them\n",
    "from typing import Any, Mapping, Tuple\n",
    "\n",
    "import numpy as np\n",
    "from sklearn.preprocessing import MinMaxScaler\n",
    "\n",
    "FVs = Any\n",
    "FittedModel = Any\n",
    "\n",
    "# ---------------------------------------------------------------------------------------\n",
    "# The function(ality) we want to dispatch:\n",
    "def apply_model(fitted_model: FittedModel, fvs: FVs, method=\"transform\"):\n",
    "    method_func = getattr(fitted_model, method)\n",
    "    return method_func(list(fvs))\n",
    "\n",
    "\n",
    "# ---------------------------------------------------------------------------------------\n",
    "# The stores that will be used -- here, all stores are just dictionaries, but the\n",
    "# contract is with the typing.Mapping (read-only here) interface.\n",
    "# As we grow up, we'll use other mappings, such as:\n",
    "# - server side RAM (as done here, simply)\n",
    "# - server side persistence (files or any DB or file system thanks to the dol package)\n",
    "# - computation (when you want the request for a key to actually launch a process that\n",
    "#   will generate the value for you (some say you should be obvious to that detail))\n",
    "# - client side RAM (when we figure that out)\n",
    "\n",
    "mall = dict(\n",
    "    fvs=dict(\n",
    "        train_fvs_1=np.array([[1], [2], [3], [5], [4], [2], [1], [4], [3]]),\n",
    "        train_fvs_2=np.array([[1], [10], [5], [3], [4]]),\n",
    "        test_fvs=np.array([[1], [5], [3], [10], [-5]]),\n",
    "    ),\n",
    "    fitted_model=dict(\n",
    "        fitted_model_1=MinMaxScaler().fit(\n",
    "            [[1], [2], [3], [5], [4], [2], [1], [4], [3]]\n",
    "        ),\n",
    "        fitted_model_2=MinMaxScaler().fit([[1], [10], [5], [3], [4]]),\n",
    "    ),\n",
    "    model_results=dict(),\n",
    ")\n",
    "\n",
    "# ---------------------------------------------------------------------------------------\n",
    "# dispatchable function:\n",
    "\n",
    "from streamlitfront.examples.crude.crude_util import auto_key\n",
    "\n",
    "from i2 import Sig\n",
    "from i2.wrapper import Ingress, wrap\n",
    "from inspect import Parameter\n",
    "\n",
    "\n",
    "def prepare_for_crude_dispatch(func, store_for_param=None, output_store_name=None):\n",
    "    \"\"\"Wrap func into something that is ready for CRUDE dispatch.\"\"\"\n",
    "\n",
    "    ingress = None\n",
    "    if store_for_param is not None:\n",
    "        sig = Sig(func)\n",
    "        print('sig:', sig)\n",
    "        crude_params = [x for x in sig.names if x in store_for_param]\n",
    "        print(f'crude params: {crude_params}')\n",
    "        def kwargs_trans(outer_kw):\n",
    "            def gen():\n",
    "                for store_name in crude_params:\n",
    "                    store_key = outer_kw[store_name]\n",
    "                    yield store_name, store_for_param[store_name][store_key]\n",
    "\n",
    "            return dict(gen())\n",
    "\n",
    "        save_name_param = Parameter(\n",
    "            name=\"save_name\",\n",
    "            kind=Parameter.KEYWORD_ONLY,\n",
    "            default=\"\",\n",
    "            annotation=str,\n",
    "        )\n",
    "        print(save_name_param)\n",
    "        outer_sig=(\n",
    "                sig.ch_annotations(**{name: str for name in crude_params})\n",
    "                + [save_name_param]\n",
    "            )\n",
    "        print(outer_sig)\n",
    "        ingress = Ingress(\n",
    "            inner_sig=sig,\n",
    "            kwargs_trans=kwargs_trans,\n",
    "            outer_sig=(\n",
    "                sig.ch_annotations(**{name: str for name in crude_params})\n",
    "                + [save_name_param]\n",
    "            ),\n",
    "        )\n",
    "\n",
    "        egress = None\n",
    "        if output_store_name:\n",
    "\n",
    "            def egress(func_output):\n",
    "                print(f\"{list(store_for_param[output_store_name])=}\")\n",
    "                store_for_param[output_store_name] = func_output\n",
    "                print(f\"{list(store_for_param[output_store_name])=}\")\n",
    "                return func_output\n",
    "\n",
    "    wrapped_f = wrap(func, ingress, egress)\n",
    "\n",
    "    return wrapped_f\n",
    "\n",
    "\n",
    "def prepare_for_crude_dispatch2(func, store_for_param=None, output_store_name=None):\n",
    "    \"\"\"Wrap func into something that is ready for CRUDE dispatch.\"\"\"\n",
    "\n",
    "    ingress = None\n",
    "    if store_for_param is not None:\n",
    "        sig = Sig(func)\n",
    "        crude_params = [x for x in sig.names if x in store_for_param]\n",
    "\n",
    "        def kwargs_trans(outer_kw):\n",
    "            def gen():\n",
    "                for store_name in crude_params:\n",
    "                    store_key = outer_kw[store_name]\n",
    "                    yield store_name, store_for_param[store_name][store_key]\n",
    "\n",
    "            return dict(gen())\n",
    "\n",
    "        save_name_param = Parameter(\n",
    "            name=\"save_name\",\n",
    "            kind=Parameter.KEYWORD_ONLY,\n",
    "            default=\"\",\n",
    "            annotation=str,\n",
    "        )\n",
    "        outer_sig=(\n",
    "                sig.ch_annotations(**{name: str for name in crude_params})\n",
    "                + [save_name_param]\n",
    "            )\n",
    "        print(outer_sig)\n",
    "        ingress = Ingress(\n",
    "            inner_sig=sig,\n",
    "            kwargs_trans=kwargs_trans,\n",
    "            outer_sig=(\n",
    "                sig.ch_annotations(**{name: str for name in crude_params})\n",
    "                + [save_name_param]\n",
    "            ),\n",
    "        )\n",
    "\n",
    "        egress = None\n",
    "        if output_store_name:\n",
    "\n",
    "            def egress(func_output):\n",
    "                print(f\"{list(store_for_param[output_store_name])=}\")\n",
    "                store_for_param[output_store_name] = func_output\n",
    "                print(f\"{list(store_for_param[output_store_name])=}\")\n",
    "                return func_output\n",
    "\n",
    "    wrapped_f = wrap(func, ingress, egress)\n",
    "\n",
    "    return wrapped_f\n",
    "\n",
    "\n",
    "\n",
    "\n",
    "\n",
    "\n",
    "f = prepare_for_crude_dispatch(apply_model, mall)\n",
    "assert all(\n",
    "    f(\"fitted_model_1\", \"test_fvs\") == np.array([[0.0], [1.0], [0.5], [2.25], [-1.5]])\n",
    ")"
   ]
  },
  {
   "cell_type": "code",
   "execution_count": 8,
   "metadata": {},
   "outputs": [],
   "source": [
    "from dataclasses import make_dataclass\n",
    "from pydantic import BaseModel\n",
    "CC = make_dataclass('Y', fields=[('s', str), ('x', int)], bases=(BaseModel,))"
   ]
  },
  {
   "cell_type": "code",
   "execution_count": 10,
   "metadata": {},
   "outputs": [
    {
     "data": {
      "text/plain": [
       "{'s': ModelField(name='s', type=str, required=True),\n",
       " 'x': ModelField(name='x', type=int, required=True)}"
      ]
     },
     "execution_count": 10,
     "metadata": {},
     "output_type": "execute_result"
    }
   ],
   "source": [
    "CC.__fields__"
   ]
  },
  {
   "cell_type": "code",
   "execution_count": 11,
   "metadata": {},
   "outputs": [
    {
     "data": {
      "text/plain": [
       "True"
      ]
     },
     "execution_count": 11,
     "metadata": {},
     "output_type": "execute_result"
    }
   ],
   "source": [
    "issubclass(CC, BaseModel)"
   ]
  },
  {
   "cell_type": "code",
   "execution_count": 17,
   "metadata": {},
   "outputs": [
    {
     "data": {
      "text/plain": [
       "['fitted_model', 'fvs', 'method']"
      ]
     },
     "execution_count": 17,
     "metadata": {},
     "output_type": "execute_result"
    }
   ],
   "source": [
    "func = apply_model\n",
    "sig = Sig(func)\n",
    "sig.names"
   ]
  },
  {
   "cell_type": "code",
   "execution_count": 16,
   "metadata": {},
   "outputs": [
    {
     "data": {
      "text/plain": [
       "{'fitted_model': <Parameter \"fitted_model: Any\">,\n",
       " 'fvs': <Parameter \"fvs: Any\">,\n",
       " 'method': <Parameter \"method='transform'\">}"
      ]
     },
     "execution_count": 16,
     "metadata": {},
     "output_type": "execute_result"
    }
   ],
   "source": [
    "dict(sig)"
   ]
  },
  {
   "cell_type": "code",
   "execution_count": 18,
   "metadata": {},
   "outputs": [],
   "source": [
    "from inspect import signature"
   ]
  },
  {
   "cell_type": "code",
   "execution_count": 20,
   "metadata": {},
   "outputs": [],
   "source": [
    "sg = signature(func)"
   ]
  },
  {
   "cell_type": "code",
   "execution_count": 29,
   "metadata": {},
   "outputs": [
    {
     "data": {
      "text/plain": [
       "typing.Any"
      ]
     },
     "execution_count": 29,
     "metadata": {},
     "output_type": "execute_result"
    }
   ],
   "source": [
    "sg.parameters['fvs'].annotation\n"
   ]
  },
  {
   "cell_type": "code",
   "execution_count": 34,
   "metadata": {},
   "outputs": [
    {
     "data": {
      "text/plain": [
       "dict_items([('fitted_model', typing.Any), ('fvs', typing.Any)])"
      ]
     },
     "execution_count": 34,
     "metadata": {},
     "output_type": "execute_result"
    }
   ],
   "source": [
    "sig.annotations.items()"
   ]
  },
  {
   "cell_type": "code",
   "execution_count": 36,
   "metadata": {},
   "outputs": [],
   "source": [
    "from typing import List\n",
    "\n",
    "mall = {'x':{'xs_1':3, 'xs_2':5}, 'fvs':{'fv_1':[1,2,3], 'fv_2':[4,5,6]}}\n",
    "\n",
    "\n",
    "def f(x:int, fvs:List[int]):\n",
    "    return [x*item for item in fvs]\n",
    "\n",
    "sig_list = Sig(f).annotations.items()\n",
    "CC = make_dataclass('Input', fields=sig_list, bases=(BaseModel,))"
   ]
  },
  {
   "cell_type": "code",
   "execution_count": 50,
   "metadata": {},
   "outputs": [
    {
     "name": "stderr",
     "output_type": "stream",
     "text": [
      "2022-02-04 15:45:25.091 WARNING streamlit.state.session_state: Session state does not function when running a script without `streamlit run`\n"
     ]
    },
    {
     "ename": "KeyError",
     "evalue": "'st.session_state has no key \"my_form-data\". Did you forget to initialize it? More info: https://docs.streamlit.io/library/advanced-features/session-state#initialization'",
     "output_type": "error",
     "traceback": [
      "\u001b[0;31m---------------------------------------------------------------------------\u001b[0m",
      "\u001b[0;31mKeyError\u001b[0m                                  Traceback (most recent call last)",
      "\u001b[0;32m~/opt/anaconda3/envs/otopy38/lib/python3.8/site-packages/streamlit/state/session_state.py\u001b[0m in \u001b[0;36m__getitem__\u001b[0;34m(self, key)\u001b[0m\n\u001b[1;32m    380\u001b[0m         \u001b[0;32mtry\u001b[0m\u001b[0;34m:\u001b[0m\u001b[0;34m\u001b[0m\u001b[0;34m\u001b[0m\u001b[0m\n\u001b[0;32m--> 381\u001b[0;31m             \u001b[0;32mreturn\u001b[0m \u001b[0mself\u001b[0m\u001b[0;34m.\u001b[0m\u001b[0m_getitem\u001b[0m\u001b[0;34m(\u001b[0m\u001b[0mwidget_id\u001b[0m\u001b[0;34m,\u001b[0m \u001b[0mkey\u001b[0m\u001b[0;34m)\u001b[0m\u001b[0;34m\u001b[0m\u001b[0;34m\u001b[0m\u001b[0m\n\u001b[0m\u001b[1;32m    382\u001b[0m         \u001b[0;32mexcept\u001b[0m \u001b[0mKeyError\u001b[0m\u001b[0;34m:\u001b[0m\u001b[0;34m\u001b[0m\u001b[0;34m\u001b[0m\u001b[0m\n",
      "\u001b[0;32m~/opt/anaconda3/envs/otopy38/lib/python3.8/site-packages/streamlit/state/session_state.py\u001b[0m in \u001b[0;36m_getitem\u001b[0;34m(self, widget_id, user_key)\u001b[0m\n\u001b[1;32m    423\u001b[0m \u001b[0;34m\u001b[0m\u001b[0m\n\u001b[0;32m--> 424\u001b[0;31m         \u001b[0;32mraise\u001b[0m \u001b[0mKeyError\u001b[0m\u001b[0;34m\u001b[0m\u001b[0;34m\u001b[0m\u001b[0m\n\u001b[0m\u001b[1;32m    425\u001b[0m \u001b[0;34m\u001b[0m\u001b[0m\n",
      "\u001b[0;31mKeyError\u001b[0m: ",
      "\nDuring handling of the above exception, another exception occurred:\n",
      "\u001b[0;31mKeyError\u001b[0m                                  Traceback (most recent call last)",
      "\u001b[0;32m<ipython-input-50-ea4c502c8775>\u001b[0m in \u001b[0;36m<module>\u001b[0;34m\u001b[0m\n\u001b[1;32m     25\u001b[0m \u001b[0;34m\u001b[0m\u001b[0m\n\u001b[1;32m     26\u001b[0m \u001b[0;34m\u001b[0m\u001b[0m\n\u001b[0;32m---> 27\u001b[0;31m \u001b[0mdata\u001b[0m \u001b[0;34m=\u001b[0m \u001b[0msp\u001b[0m\u001b[0;34m.\u001b[0m\u001b[0mpydantic_form\u001b[0m\u001b[0;34m(\u001b[0m\u001b[0mkey\u001b[0m\u001b[0;34m=\u001b[0m\u001b[0;34m\"my_form\"\u001b[0m\u001b[0;34m,\u001b[0m \u001b[0mmodel\u001b[0m\u001b[0;34m=\u001b[0m\u001b[0mExampleModel\u001b[0m\u001b[0;34m)\u001b[0m\u001b[0;34m\u001b[0m\u001b[0;34m\u001b[0m\u001b[0m\n\u001b[0m\u001b[1;32m     28\u001b[0m \u001b[0;32mif\u001b[0m \u001b[0mdata\u001b[0m\u001b[0;34m:\u001b[0m\u001b[0;34m\u001b[0m\u001b[0;34m\u001b[0m\u001b[0m\n\u001b[1;32m     29\u001b[0m     \u001b[0mst\u001b[0m\u001b[0;34m.\u001b[0m\u001b[0mjson\u001b[0m\u001b[0;34m(\u001b[0m\u001b[0mdata\u001b[0m\u001b[0;34m.\u001b[0m\u001b[0mjson\u001b[0m\u001b[0;34m(\u001b[0m\u001b[0;34m)\u001b[0m\u001b[0;34m)\u001b[0m\u001b[0;34m\u001b[0m\u001b[0;34m\u001b[0m\u001b[0m\n",
      "\u001b[0;32m~/opt/anaconda3/envs/otopy38/lib/python3.8/site-packages/streamlit_pydantic/ui_renderer.py\u001b[0m in \u001b[0;36mpydantic_form\u001b[0;34m(key, model, submit_label, clear_on_submit, group_optional_fields, lowercase_labels, ignore_empty_values)\u001b[0m\n\u001b[1;32m   1052\u001b[0m \u001b[0;34m\u001b[0m\u001b[0m\n\u001b[1;32m   1053\u001b[0m     \u001b[0;32mwith\u001b[0m \u001b[0mst\u001b[0m\u001b[0;34m.\u001b[0m\u001b[0mform\u001b[0m\u001b[0;34m(\u001b[0m\u001b[0mkey\u001b[0m\u001b[0;34m=\u001b[0m\u001b[0mkey\u001b[0m\u001b[0;34m,\u001b[0m \u001b[0mclear_on_submit\u001b[0m\u001b[0;34m=\u001b[0m\u001b[0mclear_on_submit\u001b[0m\u001b[0;34m)\u001b[0m\u001b[0;34m:\u001b[0m\u001b[0;34m\u001b[0m\u001b[0;34m\u001b[0m\u001b[0m\n\u001b[0;32m-> 1054\u001b[0;31m         input_state = pydantic_input(\n\u001b[0m\u001b[1;32m   1055\u001b[0m             \u001b[0mkey\u001b[0m\u001b[0;34m,\u001b[0m\u001b[0;34m\u001b[0m\u001b[0;34m\u001b[0m\u001b[0m\n\u001b[1;32m   1056\u001b[0m             \u001b[0mmodel\u001b[0m\u001b[0;34m,\u001b[0m\u001b[0;34m\u001b[0m\u001b[0;34m\u001b[0m\u001b[0m\n",
      "\u001b[0;32m~/opt/anaconda3/envs/otopy38/lib/python3.8/site-packages/streamlit_pydantic/ui_renderer.py\u001b[0m in \u001b[0;36mpydantic_input\u001b[0;34m(key, model, group_optional_fields, lowercase_labels, ignore_empty_values)\u001b[0m\n\u001b[1;32m   1002\u001b[0m         \u001b[0mDict\u001b[0m\u001b[0;34m:\u001b[0m \u001b[0mA\u001b[0m \u001b[0mdictionary\u001b[0m \u001b[0;32mwith\u001b[0m \u001b[0mthe\u001b[0m \u001b[0mcurrent\u001b[0m \u001b[0mstate\u001b[0m \u001b[0mof\u001b[0m \u001b[0mthe\u001b[0m \u001b[0minput\u001b[0m \u001b[0mdata\u001b[0m\u001b[0;34m.\u001b[0m\u001b[0;34m\u001b[0m\u001b[0;34m\u001b[0m\u001b[0m\n\u001b[1;32m   1003\u001b[0m     \"\"\"\n\u001b[0;32m-> 1004\u001b[0;31m     return InputUI(\n\u001b[0m\u001b[1;32m   1005\u001b[0m         \u001b[0mkey\u001b[0m\u001b[0;34m,\u001b[0m\u001b[0;34m\u001b[0m\u001b[0;34m\u001b[0m\u001b[0m\n\u001b[1;32m   1006\u001b[0m         \u001b[0mmodel\u001b[0m\u001b[0;34m,\u001b[0m\u001b[0;34m\u001b[0m\u001b[0;34m\u001b[0m\u001b[0m\n",
      "\u001b[0;32m~/opt/anaconda3/envs/otopy38/lib/python3.8/site-packages/streamlit_pydantic/ui_renderer.py\u001b[0m in \u001b[0;36mrender_ui\u001b[0;34m(self)\u001b[0m\n\u001b[1;32m    174\u001b[0m                         \u001b[0;32mpass\u001b[0m\u001b[0;34m\u001b[0m\u001b[0;34m\u001b[0m\u001b[0m\n\u001b[1;32m    175\u001b[0m \u001b[0;34m\u001b[0m\u001b[0m\n\u001b[0;32m--> 176\u001b[0;31m         \u001b[0;32mreturn\u001b[0m \u001b[0mself\u001b[0m\u001b[0;34m.\u001b[0m\u001b[0m_session_state\u001b[0m\u001b[0;34m[\u001b[0m\u001b[0mself\u001b[0m\u001b[0;34m.\u001b[0m\u001b[0m_session_input_key\u001b[0m\u001b[0;34m]\u001b[0m\u001b[0;34m\u001b[0m\u001b[0;34m\u001b[0m\u001b[0m\n\u001b[0m\u001b[1;32m    177\u001b[0m \u001b[0;34m\u001b[0m\u001b[0m\n\u001b[1;32m    178\u001b[0m     \u001b[0;32mdef\u001b[0m \u001b[0m_get_overwrite_streamlit_kwargs\u001b[0m\u001b[0;34m(\u001b[0m\u001b[0mself\u001b[0m\u001b[0;34m,\u001b[0m \u001b[0mkey\u001b[0m\u001b[0;34m:\u001b[0m \u001b[0mstr\u001b[0m\u001b[0;34m,\u001b[0m \u001b[0mproperty\u001b[0m\u001b[0;34m:\u001b[0m \u001b[0mDict\u001b[0m\u001b[0;34m)\u001b[0m \u001b[0;34m->\u001b[0m \u001b[0mDict\u001b[0m\u001b[0;34m:\u001b[0m\u001b[0;34m\u001b[0m\u001b[0;34m\u001b[0m\u001b[0m\n",
      "\u001b[0;32m~/opt/anaconda3/envs/otopy38/lib/python3.8/site-packages/streamlit/state/session_state.py\u001b[0m in \u001b[0;36m__getitem__\u001b[0;34m(self, key)\u001b[0m\n\u001b[1;32m    664\u001b[0m         \u001b[0mself\u001b[0m\u001b[0;34m.\u001b[0m\u001b[0m_validate_key\u001b[0m\u001b[0;34m(\u001b[0m\u001b[0mkey\u001b[0m\u001b[0;34m)\u001b[0m\u001b[0;34m\u001b[0m\u001b[0;34m\u001b[0m\u001b[0m\n\u001b[1;32m    665\u001b[0m         \u001b[0mstate\u001b[0m \u001b[0;34m=\u001b[0m \u001b[0mget_session_state\u001b[0m\u001b[0;34m(\u001b[0m\u001b[0;34m)\u001b[0m\u001b[0;34m\u001b[0m\u001b[0;34m\u001b[0m\u001b[0m\n\u001b[0;32m--> 666\u001b[0;31m         \u001b[0;32mreturn\u001b[0m \u001b[0mstate\u001b[0m\u001b[0;34m[\u001b[0m\u001b[0mkey\u001b[0m\u001b[0;34m]\u001b[0m\u001b[0;34m\u001b[0m\u001b[0;34m\u001b[0m\u001b[0m\n\u001b[0m\u001b[1;32m    667\u001b[0m \u001b[0;34m\u001b[0m\u001b[0m\n\u001b[1;32m    668\u001b[0m     \u001b[0;32mdef\u001b[0m \u001b[0m__setitem__\u001b[0m\u001b[0;34m(\u001b[0m\u001b[0mself\u001b[0m\u001b[0;34m,\u001b[0m \u001b[0mkey\u001b[0m\u001b[0;34m:\u001b[0m \u001b[0mKey\u001b[0m\u001b[0;34m,\u001b[0m \u001b[0mvalue\u001b[0m\u001b[0;34m:\u001b[0m \u001b[0mAny\u001b[0m\u001b[0;34m)\u001b[0m \u001b[0;34m->\u001b[0m \u001b[0;32mNone\u001b[0m\u001b[0;34m:\u001b[0m\u001b[0;34m\u001b[0m\u001b[0;34m\u001b[0m\u001b[0m\n",
      "\u001b[0;32m~/opt/anaconda3/envs/otopy38/lib/python3.8/site-packages/streamlit/state/session_state.py\u001b[0m in \u001b[0;36m__getitem__\u001b[0;34m(self, key)\u001b[0m\n\u001b[1;32m    381\u001b[0m             \u001b[0;32mreturn\u001b[0m \u001b[0mself\u001b[0m\u001b[0;34m.\u001b[0m\u001b[0m_getitem\u001b[0m\u001b[0;34m(\u001b[0m\u001b[0mwidget_id\u001b[0m\u001b[0;34m,\u001b[0m \u001b[0mkey\u001b[0m\u001b[0;34m)\u001b[0m\u001b[0;34m\u001b[0m\u001b[0;34m\u001b[0m\u001b[0m\n\u001b[1;32m    382\u001b[0m         \u001b[0;32mexcept\u001b[0m \u001b[0mKeyError\u001b[0m\u001b[0;34m:\u001b[0m\u001b[0;34m\u001b[0m\u001b[0;34m\u001b[0m\u001b[0m\n\u001b[0;32m--> 383\u001b[0;31m             \u001b[0;32mraise\u001b[0m \u001b[0mKeyError\u001b[0m\u001b[0;34m(\u001b[0m\u001b[0m_missing_key_error_message\u001b[0m\u001b[0;34m(\u001b[0m\u001b[0mkey\u001b[0m\u001b[0;34m)\u001b[0m\u001b[0;34m)\u001b[0m\u001b[0;34m\u001b[0m\u001b[0;34m\u001b[0m\u001b[0m\n\u001b[0m\u001b[1;32m    384\u001b[0m \u001b[0;34m\u001b[0m\u001b[0m\n\u001b[1;32m    385\u001b[0m     \u001b[0;32mdef\u001b[0m \u001b[0m_getitem\u001b[0m\u001b[0;34m(\u001b[0m\u001b[0mself\u001b[0m\u001b[0;34m,\u001b[0m \u001b[0mwidget_id\u001b[0m\u001b[0;34m:\u001b[0m \u001b[0mOptional\u001b[0m\u001b[0;34m[\u001b[0m\u001b[0mstr\u001b[0m\u001b[0;34m]\u001b[0m\u001b[0;34m,\u001b[0m \u001b[0muser_key\u001b[0m\u001b[0;34m:\u001b[0m \u001b[0mOptional\u001b[0m\u001b[0;34m[\u001b[0m\u001b[0mstr\u001b[0m\u001b[0;34m]\u001b[0m\u001b[0;34m)\u001b[0m \u001b[0;34m->\u001b[0m \u001b[0mAny\u001b[0m\u001b[0;34m:\u001b[0m\u001b[0;34m\u001b[0m\u001b[0;34m\u001b[0m\u001b[0m\n",
      "\u001b[0;31mKeyError\u001b[0m: 'st.session_state has no key \"my_form-data\". Did you forget to initialize it? More info: https://docs.streamlit.io/library/advanced-features/session-state#initialization'"
     ]
    }
   ],
   "source": [
    "import streamlit_pydantic as sp\n",
    "import streamlit as st\n",
    "from pydantic import BaseModel, Field, ValidationError, parse_obj_as\n",
    "\n",
    "class InputFromStore:\n",
    "    pass\n",
    "from enum import Enum\n",
    "from dataclasses import field\n",
    "\n",
    "CC = make_dataclass('Input', fields=[('FOO',str, field(init='foo')),('BAR', str, field(init='bar'))], bases=(str,Enum,))\n",
    "\n",
    "class SelectionValue(str, Enum):\n",
    "    FOO = \"foo\"\n",
    "    BAR = \"bar\"\n",
    "\n",
    "\n",
    "def mk(store, key):\n",
    "    choices = store[key].keys()\n",
    "\n",
    "class ExampleModel(BaseModel):\n",
    "    single_selection: SelectionValue= Field(\n",
    "        ..., description=\"Only select a single item from a set.\"\n",
    "    )\n",
    "    \n",
    "\n",
    "\n",
    "data = sp.pydantic_form(key=\"my_form\", model=ExampleModel)\n",
    "if data:\n",
    "    st.json(data.json())\n"
   ]
  },
  {
   "cell_type": "code",
   "execution_count": 43,
   "metadata": {},
   "outputs": [
    {
     "data": {
      "text/plain": [
       "{'FOO': str, 'BAR': str}"
      ]
     },
     "execution_count": 43,
     "metadata": {},
     "output_type": "execute_result"
    }
   ],
   "source": [
    "CC.__annotations__"
   ]
  },
  {
   "cell_type": "code",
   "execution_count": 51,
   "metadata": {},
   "outputs": [],
   "source": [
    "Input = make_dataclass(\n",
    "    \"Input\",\n",
    "    fields=[(\"FOO\", str, field(init=\"foo\")), (\"BAR\", str, field(init=\"bar\"))],\n",
    "    bases=(\n",
    "        str,\n",
    "        Enum,\n",
    "    ),\n",
    ")"
   ]
  },
  {
   "cell_type": "code",
   "execution_count": 57,
   "metadata": {},
   "outputs": [
    {
     "data": {
      "text/plain": [
       "['__class__', '__doc__', '__members__', '__module__']"
      ]
     },
     "execution_count": 57,
     "metadata": {},
     "output_type": "execute_result"
    }
   ],
   "source": [
    "dir(Input)"
   ]
  },
  {
   "cell_type": "code",
   "execution_count": 66,
   "metadata": {},
   "outputs": [
    {
     "data": {
      "text/plain": [
       "types.Input"
      ]
     },
     "execution_count": 66,
     "metadata": {},
     "output_type": "execute_result"
    }
   ],
   "source": [
    "from dataclasses import dataclass\n",
    "make_dataclass('Input',fields=[('x',int)])"
   ]
  },
  {
   "cell_type": "code",
   "execution_count": 73,
   "metadata": {},
   "outputs": [],
   "source": [
    "\n",
    "mall = {\"x\": {\"xs_1\": 3, \"xs_2\": 5}, \"fvs\": {\"fv_1\": [1, 2, 3], \"fv_2\": [4, 5, 6]}}\n",
    "\n",
    "\n",
    "def mk_Enum_from_store(store, key):\n",
    "    choices = store[key].keys()\n",
    "    choice = Enum(f\"DynamicEnum_{key}\", {item: item for item in choices})\n",
    "    return choice\n",
    "\n",
    "\n",
    "class ExampleModel2(BaseModel):\n",
    "    fvs: mk_Enum_from_store(mall, key=\"x\")\n",
    "\n"
   ]
  },
  {
   "cell_type": "code",
   "execution_count": 74,
   "metadata": {},
   "outputs": [],
   "source": [
    "from pydantic import BaseModel, create_model\n",
    "\n",
    "DynamicFoobarModel = create_model('ExampleModel3', fvs=(mk_Enum_from_store(mall, key=\"x\"), ...))\n",
    "\n",
    "\n"
   ]
  },
  {
   "cell_type": "code",
   "execution_count": 78,
   "metadata": {},
   "outputs": [],
   "source": [
    "from typing_extensions import TypedDict\n",
    "Movie = TypedDict('Movie', {'name': str, 'year': int})"
   ]
  },
  {
   "cell_type": "code",
   "execution_count": 79,
   "metadata": {},
   "outputs": [],
   "source": [
    "from pydantic import create_model_from_typeddict\n",
    "UserM = create_model_from_typeddict(Movie)\n"
   ]
  },
  {
   "cell_type": "code",
   "execution_count": 80,
   "metadata": {},
   "outputs": [
    {
     "data": {
      "text/plain": [
       "pydantic.main.Movie"
      ]
     },
     "execution_count": 80,
     "metadata": {},
     "output_type": "execute_result"
    }
   ],
   "source": [
    "UserM"
   ]
  },
  {
   "cell_type": "code",
   "execution_count": 81,
   "metadata": {},
   "outputs": [
    {
     "ename": "ImportError",
     "evalue": "cannot import name 'Files' from 'dol' (/Users/sylvain/opt/anaconda3/envs/otopy38/lib/python3.8/site-packages/dol/__init__.py)",
     "output_type": "error",
     "traceback": [
      "\u001b[0;31m---------------------------------------------------------------------------\u001b[0m",
      "\u001b[0;31mImportError\u001b[0m                               Traceback (most recent call last)",
      "\u001b[0;32m<ipython-input-81-906667240c95>\u001b[0m in \u001b[0;36m<module>\u001b[0;34m\u001b[0m\n\u001b[0;32m----> 1\u001b[0;31m \u001b[0;32mfrom\u001b[0m \u001b[0mdol\u001b[0m \u001b[0;32mimport\u001b[0m \u001b[0mFiles\u001b[0m\u001b[0;34m\u001b[0m\u001b[0;34m\u001b[0m\u001b[0m\n\u001b[0m",
      "\u001b[0;31mImportError\u001b[0m: cannot import name 'Files' from 'dol' (/Users/sylvain/opt/anaconda3/envs/otopy38/lib/python3.8/site-packages/dol/__init__.py)"
     ]
    }
   ],
   "source": [
    "from dol import Files\n"
   ]
  },
  {
   "cell_type": "code",
   "execution_count": 1,
   "metadata": {},
   "outputs": [],
   "source": [
    "from recode import decode_wav_bytes"
   ]
  },
  {
   "cell_type": "code",
   "execution_count": 4,
   "metadata": {},
   "outputs": [
    {
     "name": "stdout",
     "output_type": "stream",
     "text": [
      "\u001b[0;31mSignature:\u001b[0m \u001b[0mdecode_wav_bytes\u001b[0m\u001b[0;34m(\u001b[0m\u001b[0mwav_bytes\u001b[0m\u001b[0;34m:\u001b[0m \u001b[0mbytes\u001b[0m\u001b[0;34m)\u001b[0m\u001b[0;34m\u001b[0m\u001b[0;34m\u001b[0m\u001b[0m\n",
      "\u001b[0;31mSource:\u001b[0m   \n",
      "\u001b[0;32mdef\u001b[0m \u001b[0mdecode_wav_bytes\u001b[0m\u001b[0;34m(\u001b[0m\u001b[0mwav_bytes\u001b[0m\u001b[0;34m:\u001b[0m \u001b[0mbytes\u001b[0m\u001b[0;34m)\u001b[0m\u001b[0;34m:\u001b[0m\u001b[0;34m\u001b[0m\n",
      "\u001b[0;34m\u001b[0m    \u001b[0;34mr\"\"\"\u001b[0m\n",
      "\u001b[0;34m\u001b[0m\n",
      "\u001b[0;34m    :param width: The width of a sample (in bits, bytes, numpy dtype, pyaudio ...)\u001b[0m\n",
      "\u001b[0;34m        (Will try to figure it out)\u001b[0m\n",
      "\u001b[0;34m    :param n_channels: Number of channels\u001b[0m\n",
      "\u001b[0;34m    :return: The decoded waveform\u001b[0m\n",
      "\u001b[0;34m\u001b[0m\n",
      "\u001b[0;34m    >>> wav_bytes = (\u001b[0m\n",
      "\u001b[0;34m    ...     b'RIFF.\\x00\\x00\\x00WAVEfmt \\x10\\x00\\x00\\x00\\x01\\x00\\x01\\x00'  # header\u001b[0m\n",
      "\u001b[0;34m    ...     b'*\\x00\\x00\\x00T\\x00\\x00\\x00\\x02\\x00\\x10\\x00data\\n\\x00\\x00\\x00'  # header\u001b[0m\n",
      "\u001b[0;34m    ...     b'\\x00\\x00\\x01\\x00\\xff\\xff\\x02\\x00\\xfe\\xff'  # data\u001b[0m\n",
      "\u001b[0;34m    ... )\u001b[0m\n",
      "\u001b[0;34m    >>> wf, sr = decode_wav_bytes(wav_bytes)\u001b[0m\n",
      "\u001b[0;34m    >>> wf\u001b[0m\n",
      "\u001b[0;34m    [0, 1, -1, 2, -2]\u001b[0m\n",
      "\u001b[0;34m    >>> sr\u001b[0m\n",
      "\u001b[0;34m    42\u001b[0m\n",
      "\u001b[0;34m    \"\"\"\u001b[0m\u001b[0;34m\u001b[0m\n",
      "\u001b[0;34m\u001b[0m    \u001b[0mmeta\u001b[0m \u001b[0;34m=\u001b[0m \u001b[0mdecode_wav_header_bytes\u001b[0m\u001b[0;34m(\u001b[0m\u001b[0mwav_bytes\u001b[0m\u001b[0;34m)\u001b[0m\u001b[0;34m\u001b[0m\n",
      "\u001b[0;34m\u001b[0m    \u001b[0mheader_size\u001b[0m \u001b[0;34m=\u001b[0m \u001b[0mheader_size_of_wav_bytes\u001b[0m\u001b[0;34m(\u001b[0m\u001b[0mwav_bytes\u001b[0m\u001b[0;34m,\u001b[0m \u001b[0mmeta\u001b[0m\u001b[0;34m)\u001b[0m\u001b[0;34m\u001b[0m\n",
      "\u001b[0;34m\u001b[0m    \u001b[0mwf\u001b[0m \u001b[0;34m=\u001b[0m \u001b[0mdecode_pcm_bytes\u001b[0m\u001b[0;34m(\u001b[0m\u001b[0;34m\u001b[0m\n",
      "\u001b[0;34m\u001b[0m        \u001b[0mwav_bytes\u001b[0m\u001b[0;34m[\u001b[0m\u001b[0mheader_size\u001b[0m\u001b[0;34m:\u001b[0m\u001b[0;34m]\u001b[0m\u001b[0;34m,\u001b[0m\u001b[0;34m\u001b[0m\n",
      "\u001b[0;34m\u001b[0m        \u001b[0mwidth\u001b[0m\u001b[0;34m=\u001b[0m\u001b[0mmeta\u001b[0m\u001b[0;34m[\u001b[0m\u001b[0;34m'width_bytes'\u001b[0m\u001b[0;34m]\u001b[0m\u001b[0;34m,\u001b[0m\u001b[0;34m\u001b[0m\n",
      "\u001b[0;34m\u001b[0m        \u001b[0mn_channels\u001b[0m\u001b[0;34m=\u001b[0m\u001b[0mmeta\u001b[0m\u001b[0;34m[\u001b[0m\u001b[0;34m'n_channels'\u001b[0m\u001b[0;34m]\u001b[0m\u001b[0;34m,\u001b[0m\u001b[0;34m\u001b[0m\n",
      "\u001b[0;34m\u001b[0m    \u001b[0;34m)\u001b[0m\u001b[0;34m\u001b[0m\n",
      "\u001b[0;34m\u001b[0m    \u001b[0;32mreturn\u001b[0m \u001b[0mwf\u001b[0m\u001b[0;34m,\u001b[0m \u001b[0mmeta\u001b[0m\u001b[0;34m[\u001b[0m\u001b[0;34m'sr'\u001b[0m\u001b[0;34m]\u001b[0m\u001b[0;34m\u001b[0m\u001b[0;34m\u001b[0m\u001b[0m\n",
      "\u001b[0;31mFile:\u001b[0m      ~/Desktop/dev/otosense/recode/recode/audio.py\n",
      "\u001b[0;31mType:\u001b[0m      function\n"
     ]
    }
   ],
   "source": [
    "decode_wav_bytes??"
   ]
  },
  {
   "cell_type": "code",
   "execution_count": 5,
   "metadata": {},
   "outputs": [],
   "source": [
    "path = '/Users/sylvain/Dropbox/Otosense/VacuumEdgeImpulse/train/noise.Babble_1.2.320000-480000.wav.23q8e2h3.ingestion-6bc8b65f8c-vrv59.wav'\n",
    "with open(path, 'rb') as fp:\n",
    "    b = fp.read()\n",
    "    wf, sr = decode_wav_bytes(b)\n"
   ]
  },
  {
   "cell_type": "code",
   "execution_count": 1,
   "metadata": {},
   "outputs": [
    {
     "name": "stderr",
     "output_type": "stream",
     "text": [
      "<frozen importlib._bootstrap>:219: RuntimeWarning: scipy._lib.messagestream.MessageStream size changed, may indicate binary incompatibility. Expected 56 from C header, got 64 from PyObject\n"
     ]
    }
   ],
   "source": [
    "from ptr.evacuation.stores import Dacc"
   ]
  },
  {
   "cell_type": "code",
   "execution_count": 2,
   "metadata": {},
   "outputs": [
    {
     "ename": "ModuleNotFoundError",
     "evalue": "No module named 'pyckup'",
     "output_type": "error",
     "traceback": [
      "\u001b[0;31m---------------------------------------------------------------------------\u001b[0m",
      "\u001b[0;31mModuleNotFoundError\u001b[0m                       Traceback (most recent call last)",
      "\u001b[1;32m/Users/sylvain/Desktop/dev/otosense/front/front/scrap/notebook.ipynb Cell 42\u001b[0m in \u001b[0;36m<cell line: 1>\u001b[0;34m()\u001b[0m\n\u001b[0;32m----> <a href='vscode-notebook-cell:/Users/sylvain/Desktop/dev/otosense/front/front/scrap/notebook.ipynb#X56sZmlsZQ%3D%3D?line=0'>1</a>\u001b[0m dacc \u001b[39m=\u001b[39m Dacc()\n",
      "File \u001b[0;32m~/Desktop/dev/otosense/ptr/evacuation/stores.py:99\u001b[0m, in \u001b[0;36mDacc.__init__\u001b[0;34m(self, src, keys_selection, annots_file_name, wav_files_key_template)\u001b[0m\n\u001b[1;32m     96\u001b[0m \u001b[39mself\u001b[39m\u001b[39m.\u001b[39mannots_file_name \u001b[39m=\u001b[39m annots_file_name\n\u001b[1;32m     97\u001b[0m \u001b[39mself\u001b[39m\u001b[39m.\u001b[39mwav_files_key_template \u001b[39m=\u001b[39m wav_files_key_template\n\u001b[0;32m---> 99\u001b[0m bytes_ \u001b[39m=\u001b[39m grab(\u001b[39mself\u001b[39;49m\u001b[39m.\u001b[39;49msrc)\n\u001b[1;32m    101\u001b[0m \u001b[39mself\u001b[39m\u001b[39m.\u001b[39mfiles_of_zip \u001b[39m=\u001b[39m FilesOfZip(bytes_)\n\u001b[1;32m    103\u001b[0m \u001b[39mself\u001b[39m\u001b[39m.\u001b[39mwav_files \u001b[39m=\u001b[39m wav_files_wrap(\u001b[39mself\u001b[39m\u001b[39m.\u001b[39mfiles_of_zip)\n",
      "File \u001b[0;32m~/Desktop/dev/otosense/ptr/evacuation/stores.py:61\u001b[0m, in \u001b[0;36mgrab\u001b[0;34m(k)\u001b[0m\n\u001b[1;32m     59\u001b[0m         \u001b[39mreturn\u001b[39;00m fp\u001b[39m.\u001b[39mread()\n\u001b[1;32m     60\u001b[0m \u001b[39melse\u001b[39;00m:\n\u001b[0;32m---> 61\u001b[0m     \u001b[39mfrom\u001b[39;00m \u001b[39mpyckup\u001b[39;00m \u001b[39mimport\u001b[39;00m grab \u001b[39mas\u001b[39;00m _grab  \u001b[39m# https://pypi.org/project/pyckup/\u001b[39;00m\n\u001b[1;32m     63\u001b[0m     \u001b[39mreturn\u001b[39;00m _grab(k)\n",
      "\u001b[0;31mModuleNotFoundError\u001b[0m: No module named 'pyckup'"
     ]
    }
   ],
   "source": [
    "dacc = Dacc()"
   ]
  },
  {
   "cell_type": "code",
   "execution_count": null,
   "metadata": {},
   "outputs": [],
   "source": []
  }
 ],
 "metadata": {
  "kernelspec": {
   "display_name": "Python 3.8.11 ('otopy38')",
   "language": "python",
   "name": "python3"
  },
  "language_info": {
   "codemirror_mode": {
    "name": "ipython",
    "version": 3
   },
   "file_extension": ".py",
   "mimetype": "text/x-python",
   "name": "python",
   "nbconvert_exporter": "python",
   "pygments_lexer": "ipython3",
   "version": "3.8.11"
  },
  "orig_nbformat": 4,
  "vscode": {
   "interpreter": {
    "hash": "1a569799154504b406baf5195ac89fceebc6fb1ed8aa567618566bf3d18c8582"
   }
  }
 },
 "nbformat": 4,
 "nbformat_minor": 2
}
