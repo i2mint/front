{
 "cells": [
  {
   "cell_type": "code",
   "execution_count": 1,
   "source": [
    "from pydantic_wrap import SimplePageFuncPydanticWithOutput, pydantic_model_from_type"
   ],
   "outputs": [],
   "metadata": {}
  },
  {
   "cell_type": "code",
   "execution_count": 2,
   "source": [
    "def ff(x:int)->int:\n",
    "    return x\n",
    "\n",
    "mytype = ff.__annotations__[\"return\"]\n",
    "\n",
    "mod = pydantic_model_from_type(mytype)"
   ],
   "outputs": [],
   "metadata": {}
  },
  {
   "cell_type": "code",
   "execution_count": 3,
   "source": [
    "mod.__fields__"
   ],
   "outputs": [
    {
     "output_type": "execute_result",
     "data": {
      "text/plain": [
       "{'result': ModelField(name='result', type=int, required=True)}"
      ]
     },
     "metadata": {},
     "execution_count": 3
    }
   ],
   "metadata": {}
  },
  {
   "cell_type": "markdown",
   "source": [
    "# flat dispatch"
   ],
   "metadata": {}
  },
  {
   "cell_type": "code",
   "execution_count": 6,
   "source": [
    "from streamlitfront import dispatch_funcs\n",
    "from front.scrap.pydantic_wrap import SimplePageFuncPydanticWithOutput\n",
    "from typing import Optional\n",
    "from streamlit_pydantic.types import FileContent\n",
    "from pydantic import Field, BaseModel\n",
    "from dol import Store\n",
    "\n",
    "\n"
   ],
   "outputs": [],
   "metadata": {}
  },
  {
   "cell_type": "code",
   "execution_count": 11,
   "source": [
    "def func(salary: float, n_months=12):\n",
    "    return salary * n_months\n",
    "\n",
    "salary_store = {\n",
    "    'sylvain': 10000,\n",
    "    'christian': 2000,\n",
    "    'thor': 50000\n",
    "}\n",
    "\n",
    "def store_wrapped_func(salary: str, n_months=12):\n",
    "    salary = salary_store[salary]\n",
    "    return func(salary, n_months)\n",
    "\n",
    "assert store_wrapped_func('sylvain', 6) == 60000"
   ],
   "outputs": [],
   "metadata": {}
  },
  {
   "cell_type": "code",
   "execution_count": 17,
   "source": [
    "from i2.wrapper import wrap\n",
    "\n",
    "def ingress_salary(salary_str:str, n_months:int):\n",
    "    return (salary_store[salary_str], n_months), dict()\n",
    "\n",
    "wrapped = wrap(func, ingress = ingress_salary)\n",
    "assert wrapped('sylvain', 12)==120000"
   ],
   "outputs": [],
   "metadata": {}
  },
  {
   "cell_type": "code",
   "execution_count": null,
   "source": [
    "\"\"\"A simple app to demo the use of Mappings to handle complex type\"\"\"\n",
    "from typing import Mapping\n",
    "\n",
    "ComplexType = float  # just pretend it's complex!\n",
    "\n",
    "\n",
    "def func(salary: ComplexType, n_months: int = 12):\n",
    "    return salary * n_months\n",
    "\n",
    "\n",
    "SalaryKey = str  # or some type that will resolve in store-fed key selector\n",
    "SalaryMapping = Mapping[SalaryKey, ComplexType]\n",
    "\n",
    "salary_store: SalaryMapping\n",
    "salary_store = {\"sylvain\": 10000, \"christian\": 2000, \"thor\": 50000}\n",
    "\n",
    "\n",
    "def store_wrapped_func(salary: SalaryKey, n_months: int = 12):\n",
    "    salary = salary_store[salary]\n",
    "    return func(salary, n_months)\n",
    "\n",
    "\n",
    "assert store_wrapped_func(\"sylvain\", 6) == 60000\n",
    "\n",
    "\n",
    "if __name__ == \"__main__\":\n",
    "    from streamlitfront.base import dispatch_funcs\n",
    "\n",
    "    app = dispatch_funcs([func, store_wrapped_func])\n",
    "    app()"
   ],
   "outputs": [],
   "metadata": {}
  },
  {
   "cell_type": "code",
   "execution_count": 20,
   "source": [
    "\"\"\"A simple app to demo the use of Mappings to handle complex type\"\"\"\n",
    "from typing import Mapping\n",
    "from enum import Enum\n",
    "\n",
    "from i2.wrapper import wrap\n",
    "\n",
    "\n",
    "\n",
    "ComplexType = float  # just pretend it's complex!\n",
    "\n",
    "\n",
    "def func(salary: ComplexType, n_months: int = 12):\n",
    "    return salary * n_months\n",
    "\n",
    "\n",
    "SalaryKey = str  # or some type that will resolve in store-fed key selector\n",
    "SalaryMapping = Mapping[SalaryKey, ComplexType]\n",
    "\n",
    "salary_store: SalaryMapping\n",
    "salary_store = {\"sylvain\": 10000, \"christian\": 2000, \"thor\": 50000}\n",
    "\n",
    "def choose_key(choice):\n",
    "    pass\n",
    "\n",
    "def ingress_salary(salary_str:SalaryKey, n_months:int):\n",
    "    return (salary_store[salary_str], n_months), dict()\n",
    "\n",
    "store_wrapped_func = wrap(func, ingress = ingress_salary)\n",
    "\n",
    "\n",
    "assert store_wrapped_func(\"sylvain\", 6) == 60000\n",
    "\n",
    "class SelectionValue(str, Enum):\n",
    "    FOO = \"foo\"\n",
    "    BAR = \"bar\"\n",
    "\n",
    "\n",
    "class ExampleModel(BaseModel):\n",
    "    single_selection: SelectionValue = Field(\n",
    "        ..., description=\"Only select a single item from a set.\"\n",
    "    )"
   ],
   "outputs": [],
   "metadata": {}
  },
  {
   "cell_type": "code",
   "execution_count": 21,
   "source": [
    "class SelectionValue(str, Enum):\n",
    "    FOO = \"foo\"\n",
    "    BAR = \"bar\"\n",
    "\n",
    "\n",
    "class ExampleModel(BaseModel):\n",
    "    single_selection: SelectionValue = Field(\n",
    "        ..., description=\"Only select a single item from a set.\"\n",
    "    )"
   ],
   "outputs": [],
   "metadata": {}
  },
  {
   "cell_type": "code",
   "execution_count": 30,
   "source": [
    "from dataclasses import dataclass, field, make_dataclass\n",
    "from typing import List\n",
    "\n",
    "store = {'sly':20000, 'chris':4000}\n",
    "def mk_choices():\n",
    "    return list(store.keys())\n",
    "\n",
    "@dataclass\n",
    "class C:\n",
    "    mylist: List[str] = field(default_factory=mk_choices)\n",
    "\n",
    "c = C()\n",
    "c.mylist += [1, 2, 3]"
   ],
   "outputs": [],
   "metadata": {}
  },
  {
   "cell_type": "code",
   "execution_count": 31,
   "source": [
    "DFLT_CHOICES = ['sly','chris']\n",
    "C = Enum(\"Choices\", {'sly':'sly', 'chris':'chris'})"
   ],
   "outputs": [],
   "metadata": {}
  },
  {
   "cell_type": "code",
   "execution_count": 32,
   "source": [
    "C"
   ],
   "outputs": [
    {
     "output_type": "execute_result",
     "data": {
      "text/plain": [
       "<enum 'Choices'>"
      ]
     },
     "metadata": {},
     "execution_count": 32
    }
   ],
   "metadata": {}
  },
  {
   "cell_type": "code",
   "execution_count": null,
   "source": [],
   "outputs": [],
   "metadata": {}
  },
  {
   "cell_type": "markdown",
   "source": [
    "# Scrap"
   ],
   "metadata": {}
  },
  {
   "cell_type": "code",
   "execution_count": 13,
   "source": [
    "\"\"\"\n",
    "Same as take_04_model_run, but where the dispatch is not as manual.\n",
    "\"\"\"\n",
    "\n",
    "# This is what we want our \"dispatchable\" wrapper to look like\n",
    "\n",
    "# There should be real physical stores for those types (FVs, FittedModel) that need them\n",
    "from typing import Any, Mapping, Tuple\n",
    "\n",
    "import numpy as np\n",
    "from sklearn.preprocessing import MinMaxScaler\n",
    "\n",
    "FVs = Any\n",
    "FittedModel = Any\n",
    "\n",
    "# ---------------------------------------------------------------------------------------\n",
    "# The function(ality) we want to dispatch:\n",
    "def apply_model(fitted_model: FittedModel, fvs: FVs, method=\"transform\"):\n",
    "    method_func = getattr(fitted_model, method)\n",
    "    return method_func(list(fvs))\n",
    "\n",
    "\n",
    "# ---------------------------------------------------------------------------------------\n",
    "# The stores that will be used -- here, all stores are just dictionaries, but the\n",
    "# contract is with the typing.Mapping (read-only here) interface.\n",
    "# As we grow up, we'll use other mappings, such as:\n",
    "# - server side RAM (as done here, simply)\n",
    "# - server side persistence (files or any DB or file system thanks to the dol package)\n",
    "# - computation (when you want the request for a key to actually launch a process that\n",
    "#   will generate the value for you (some say you should be obvious to that detail))\n",
    "# - client side RAM (when we figure that out)\n",
    "\n",
    "mall = dict(\n",
    "    fvs=dict(\n",
    "        train_fvs_1=np.array([[1], [2], [3], [5], [4], [2], [1], [4], [3]]),\n",
    "        train_fvs_2=np.array([[1], [10], [5], [3], [4]]),\n",
    "        test_fvs=np.array([[1], [5], [3], [10], [-5]]),\n",
    "    ),\n",
    "    fitted_model=dict(\n",
    "        fitted_model_1=MinMaxScaler().fit(\n",
    "            [[1], [2], [3], [5], [4], [2], [1], [4], [3]]\n",
    "        ),\n",
    "        fitted_model_2=MinMaxScaler().fit([[1], [10], [5], [3], [4]]),\n",
    "    ),\n",
    "    model_results=dict(),\n",
    ")\n",
    "\n",
    "# ---------------------------------------------------------------------------------------\n",
    "# dispatchable function:\n",
    "\n",
    "from streamlitfront.examples.crude.crude_util import auto_key\n",
    "\n",
    "from i2 import Sig\n",
    "from i2.wrapper import Ingress, wrap\n",
    "from inspect import Parameter\n",
    "\n",
    "\n",
    "def prepare_for_crude_dispatch(func, store_for_param=None, output_store_name=None):\n",
    "    \"\"\"Wrap func into something that is ready for CRUDE dispatch.\"\"\"\n",
    "\n",
    "    ingress = None\n",
    "    if store_for_param is not None:\n",
    "        sig = Sig(func)\n",
    "        print('sig:', sig)\n",
    "        crude_params = [x for x in sig.names if x in store_for_param]\n",
    "        print(f'crude params: {crude_params}')\n",
    "        def kwargs_trans(outer_kw):\n",
    "            def gen():\n",
    "                for store_name in crude_params:\n",
    "                    store_key = outer_kw[store_name]\n",
    "                    yield store_name, store_for_param[store_name][store_key]\n",
    "\n",
    "            return dict(gen())\n",
    "\n",
    "        save_name_param = Parameter(\n",
    "            name=\"save_name\",\n",
    "            kind=Parameter.KEYWORD_ONLY,\n",
    "            default=\"\",\n",
    "            annotation=str,\n",
    "        )\n",
    "        print(save_name_param)\n",
    "        outer_sig=(\n",
    "                sig.ch_annotations(**{name: str for name in crude_params})\n",
    "                + [save_name_param]\n",
    "            )\n",
    "        print(outer_sig)\n",
    "        ingress = Ingress(\n",
    "            inner_sig=sig,\n",
    "            kwargs_trans=kwargs_trans,\n",
    "            outer_sig=(\n",
    "                sig.ch_annotations(**{name: str for name in crude_params})\n",
    "                + [save_name_param]\n",
    "            ),\n",
    "        )\n",
    "\n",
    "        egress = None\n",
    "        if output_store_name:\n",
    "\n",
    "            def egress(func_output):\n",
    "                print(f\"{list(store_for_param[output_store_name])=}\")\n",
    "                store_for_param[output_store_name] = func_output\n",
    "                print(f\"{list(store_for_param[output_store_name])=}\")\n",
    "                return func_output\n",
    "\n",
    "    wrapped_f = wrap(func, ingress, egress)\n",
    "\n",
    "    return wrapped_f\n",
    "\n",
    "\n",
    "def prepare_for_crude_dispatch2(func, store_for_param=None, output_store_name=None):\n",
    "    \"\"\"Wrap func into something that is ready for CRUDE dispatch.\"\"\"\n",
    "\n",
    "    ingress = None\n",
    "    if store_for_param is not None:\n",
    "        sig = Sig(func)\n",
    "        crude_params = [x for x in sig.names if x in store_for_param]\n",
    "\n",
    "        def kwargs_trans(outer_kw):\n",
    "            def gen():\n",
    "                for store_name in crude_params:\n",
    "                    store_key = outer_kw[store_name]\n",
    "                    yield store_name, store_for_param[store_name][store_key]\n",
    "\n",
    "            return dict(gen())\n",
    "\n",
    "        save_name_param = Parameter(\n",
    "            name=\"save_name\",\n",
    "            kind=Parameter.KEYWORD_ONLY,\n",
    "            default=\"\",\n",
    "            annotation=str,\n",
    "        )\n",
    "        outer_sig=(\n",
    "                sig.ch_annotations(**{name: str for name in crude_params})\n",
    "                + [save_name_param]\n",
    "            )\n",
    "        print(outer_sig)\n",
    "        ingress = Ingress(\n",
    "            inner_sig=sig,\n",
    "            kwargs_trans=kwargs_trans,\n",
    "            outer_sig=(\n",
    "                sig.ch_annotations(**{name: str for name in crude_params})\n",
    "                + [save_name_param]\n",
    "            ),\n",
    "        )\n",
    "\n",
    "        egress = None\n",
    "        if output_store_name:\n",
    "\n",
    "            def egress(func_output):\n",
    "                print(f\"{list(store_for_param[output_store_name])=}\")\n",
    "                store_for_param[output_store_name] = func_output\n",
    "                print(f\"{list(store_for_param[output_store_name])=}\")\n",
    "                return func_output\n",
    "\n",
    "    wrapped_f = wrap(func, ingress, egress)\n",
    "\n",
    "    return wrapped_f\n",
    "\n",
    "\n",
    "\n",
    "\n",
    "\n",
    "\n",
    "f = prepare_for_crude_dispatch(apply_model, mall)\n",
    "assert all(\n",
    "    f(\"fitted_model_1\", \"test_fvs\") == np.array([[0.0], [1.0], [0.5], [2.25], [-1.5]])\n",
    ")"
   ],
   "outputs": [
    {
     "output_type": "stream",
     "name": "stdout",
     "text": [
      "sig: (fitted_model: Any, fvs: Any, method='transform')\n",
      "crude params: ['fitted_model', 'fvs']\n",
      "save_name: str = ''\n",
      "(fitted_model: str, fvs: str, method='transform', save_name: str = '')\n"
     ]
    }
   ],
   "metadata": {}
  },
  {
   "cell_type": "code",
   "execution_count": 8,
   "source": [
    "from dataclasses import make_dataclass\n",
    "from pydantic import BaseModel\n",
    "CC = make_dataclass('Y', fields=[('s', str), ('x', int)], bases=(BaseModel,))"
   ],
   "outputs": [],
   "metadata": {}
  },
  {
   "cell_type": "code",
   "execution_count": 10,
   "source": [
    "CC.__fields__"
   ],
   "outputs": [
    {
     "output_type": "execute_result",
     "data": {
      "text/plain": [
       "{'s': ModelField(name='s', type=str, required=True),\n",
       " 'x': ModelField(name='x', type=int, required=True)}"
      ]
     },
     "metadata": {},
     "execution_count": 10
    }
   ],
   "metadata": {}
  },
  {
   "cell_type": "code",
   "execution_count": 11,
   "source": [
    "issubclass(CC, BaseModel)"
   ],
   "outputs": [
    {
     "output_type": "execute_result",
     "data": {
      "text/plain": [
       "True"
      ]
     },
     "metadata": {},
     "execution_count": 11
    }
   ],
   "metadata": {}
  },
  {
   "cell_type": "code",
   "execution_count": 17,
   "source": [
    "func = apply_model\n",
    "sig = Sig(func)\n",
    "sig.names"
   ],
   "outputs": [
    {
     "output_type": "execute_result",
     "data": {
      "text/plain": [
       "['fitted_model', 'fvs', 'method']"
      ]
     },
     "metadata": {},
     "execution_count": 17
    }
   ],
   "metadata": {}
  },
  {
   "cell_type": "code",
   "execution_count": 16,
   "source": [
    "dict(sig)"
   ],
   "outputs": [
    {
     "output_type": "execute_result",
     "data": {
      "text/plain": [
       "{'fitted_model': <Parameter \"fitted_model: Any\">,\n",
       " 'fvs': <Parameter \"fvs: Any\">,\n",
       " 'method': <Parameter \"method='transform'\">}"
      ]
     },
     "metadata": {},
     "execution_count": 16
    }
   ],
   "metadata": {}
  },
  {
   "cell_type": "code",
   "execution_count": 18,
   "source": [
    "from inspect import signature"
   ],
   "outputs": [],
   "metadata": {}
  },
  {
   "cell_type": "code",
   "execution_count": 20,
   "source": [
    "sg = signature(func)"
   ],
   "outputs": [],
   "metadata": {}
  },
  {
   "cell_type": "code",
   "execution_count": 29,
   "source": [
    "sg.parameters['fvs'].annotation\n"
   ],
   "outputs": [
    {
     "output_type": "execute_result",
     "data": {
      "text/plain": [
       "typing.Any"
      ]
     },
     "metadata": {},
     "execution_count": 29
    }
   ],
   "metadata": {}
  },
  {
   "cell_type": "code",
   "execution_count": 34,
   "source": [
    "sig.annotations.items()"
   ],
   "outputs": [
    {
     "output_type": "execute_result",
     "data": {
      "text/plain": [
       "dict_items([('fitted_model', typing.Any), ('fvs', typing.Any)])"
      ]
     },
     "metadata": {},
     "execution_count": 34
    }
   ],
   "metadata": {}
  },
  {
   "cell_type": "code",
   "execution_count": 36,
   "source": [
    "from typing import List\n",
    "\n",
    "mall = {'x':{'xs_1':3, 'xs_2':5}, 'fvs':{'fv_1':[1,2,3], 'fv_2':[4,5,6]}}\n",
    "\n",
    "\n",
    "def f(x:int, fvs:List[int]):\n",
    "    return [x*item for item in fvs]\n",
    "\n",
    "sig_list = Sig(f).annotations.items()\n",
    "CC = make_dataclass('Input', fields=sig_list, bases=(BaseModel,))"
   ],
   "outputs": [],
   "metadata": {}
  },
  {
   "cell_type": "code",
   "execution_count": 37,
   "source": [
    "class InputFromStore:\n",
    "    pass\n"
   ],
   "outputs": [
    {
     "output_type": "execute_result",
     "data": {
      "text/plain": [
       "abc.Y"
      ]
     },
     "metadata": {},
     "execution_count": 37
    }
   ],
   "metadata": {}
  },
  {
   "cell_type": "code",
   "execution_count": null,
   "source": [],
   "outputs": [],
   "metadata": {}
  }
 ],
 "metadata": {
  "orig_nbformat": 4,
  "language_info": {
   "name": "python",
   "version": "3.8.11",
   "mimetype": "text/x-python",
   "codemirror_mode": {
    "name": "ipython",
    "version": 3
   },
   "pygments_lexer": "ipython3",
   "nbconvert_exporter": "python",
   "file_extension": ".py"
  },
  "kernelspec": {
   "name": "python3",
   "display_name": "Python 3.8.11 64-bit ('otopy38': conda)"
  },
  "interpreter": {
   "hash": "094c189d81026d09b06c18854d442a49d96e55830a4824cf8c6f41ec19877a82"
  }
 },
 "nbformat": 4,
 "nbformat_minor": 2
}